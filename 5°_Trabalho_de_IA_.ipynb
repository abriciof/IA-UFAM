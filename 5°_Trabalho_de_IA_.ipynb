{
  "nbformat": 4,
  "nbformat_minor": 0,
  "metadata": {
    "colab": {
      "name": "5° Trabalho de IA .ipynb",
      "provenance": [],
      "collapsed_sections": [],
      "include_colab_link": true
    },
    "kernelspec": {
      "name": "python3",
      "display_name": "Python 3"
    },
    "language_info": {
      "name": "python"
    }
  },
  "cells": [
    {
      "cell_type": "markdown",
      "metadata": {
        "id": "view-in-github",
        "colab_type": "text"
      },
      "source": [
        "<a href=\"https://colab.research.google.com/github/abriciof/IA-UFAM/blob/main/5%C2%B0_Trabalho_de_IA_.ipynb\" target=\"_parent\"><img src=\"https://colab.research.google.com/assets/colab-badge.svg\" alt=\"Open In Colab\"/></a>"
      ]
    },
    {
      "cell_type": "markdown",
      "source": [
        "# ⛳ Redes Neurais Artificiais (RNA) e tradução de programa em lógica para RNA\n",
        "\n",
        "*Turma EC01 - Engenharia da Computação*\n",
        "\n",
        "*   Fabrício da Costa Guimarães - 21950515\n",
        "*   Laura Aguiar Martinho - 21952064\n",
        "*   Lorena Bastos Amazonas - 21952638\n",
        "*   Mattheus Smith Costa - 21954379\n",
        "\n",
        "\n",
        "\n",
        "\n",
        "\n"
      ],
      "metadata": {
        "id": "eMR3AMyRgtX4"
      }
    },
    {
      "cell_type": "markdown",
      "source": [
        "## Bibliotecas"
      ],
      "metadata": {
        "id": "dssAMzNegzmB"
      }
    },
    {
      "cell_type": "code",
      "source": [
        "import math\n",
        "import random\n",
        "import numpy as np"
      ],
      "metadata": {
        "id": "WmM_K8XBa3sl"
      },
      "execution_count": 158,
      "outputs": []
    },
    {
      "cell_type": "markdown",
      "source": [
        "## Class Neural Network"
      ],
      "metadata": {
        "id": "SqBXxxleg4IX"
      }
    },
    {
      "cell_type": "code",
      "source": [
        "# Gerar random\n",
        "random.seed(3)\n",
        "def rand(a, b):\n",
        "  return (b-a)*random.random() + a\n",
        "\n",
        "def pesos_random(v,q):\n",
        "  pesos_random = np.zeros((v+1, q))\n",
        "  for i in range(v+1): #+1 bias\n",
        "    for j in range(q):\n",
        "      pesos_random[i][j] = rand(-2, 2)\n",
        "  return pesos_random\n",
        "\n",
        "# Função de Ativação tang_Hiper\n",
        "def tang_Hiper(x, diff=False):\n",
        "  if diff:\n",
        "    return 1.0 - x**2\n",
        "  else:\n",
        "    return math.tanh(x)\n",
        "\n",
        "class NeuralNetwork:\n",
        "  def __init__(self, num_inputs, num_hidden, num_outputs, pesos):\n",
        "    # input, hidden and output\n",
        "    self.num_inputs = num_inputs + 1 # +1 bias\n",
        "    self.num_hidden = num_hidden \n",
        "    self.num_outputs = num_outputs\n",
        "\n",
        "    self.ai = [1.0]*self.num_inputs\n",
        "    self.ah = [1.0]*self.num_hidden\n",
        "    self.ao = [1.0]*self.num_outputs\n",
        "\n",
        "    # pesos\n",
        "    self.hidden_weights = np.zeros((self.num_inputs, self.num_hidden))\n",
        "    self.output_weights = np.zeros((self.num_hidden, self.num_outputs))\n",
        "\n",
        "    # pesos de entrada pré calculados\n",
        "    self.hidden_weights = pesos\n",
        "    # print(self.hidden_weights)\n",
        "\n",
        "    for j in range(self.num_hidden):\n",
        "      for k in range(self.num_outputs):\n",
        "        self.output_weights[j][k] = rand(-0.2, 0.2)\n",
        "        # self.output_weights[j][k] = w\n",
        "\n",
        "    # ultima mudança de pesos para instante\n",
        "    self.ci = np.zeros((self.num_inputs, self.num_hidden))\n",
        "    self.co = np.zeros((self.num_hidden, self.num_outputs))\n",
        "\n",
        "  # Faz previsões com a rede\n",
        "  def update(self, inputs):\n",
        "    if len(inputs) != self.num_inputs-1:\n",
        "      raise ValueError('Número errado de entradas')\n",
        "\n",
        "    # camada de input\n",
        "    for i in range(self.num_inputs-1):\n",
        "      self.ai[i] = inputs[i]\n",
        "\n",
        "    # camada dos hidden\n",
        "    for j in range(self.num_hidden):\n",
        "      sum = 0.0\n",
        "      for i in range(self.num_inputs):\n",
        "          sum = sum + self.ai[i] * self.hidden_weights[i][j]\n",
        "      self.ah[j] = tang_Hiper(sum)\n",
        "\n",
        "    # camada de output\n",
        "    for k in range(self.num_outputs):\n",
        "      sum = 0.0\n",
        "      for j in range(self.num_hidden):\n",
        "          sum = sum + self.ah[j] * self.output_weights[j][k]\n",
        "      self.ao[k] = tang_Hiper(sum)\n",
        "\n",
        "    return self.ao[:]\n",
        "\n",
        "\n",
        "  def backpropagation(self, targets, N, M):\n",
        "    if len(targets) != self.num_outputs:\n",
        "      raise ValueError('Número errado de entradas')\n",
        "\n",
        "    # erros do output\n",
        "    output_deltas = [0.0] * self.num_outputs\n",
        "    for k in range(self.num_outputs):\n",
        "      error = targets[k]-self.ao[k]\n",
        "      output_deltas[k] = tang_Hiper(self.ao[k], diff=True) * error\n",
        "\n",
        "    # erros do hidden\n",
        "    hidden_deltas = [0.0] * self.num_hidden\n",
        "    for j in range(self.num_hidden):\n",
        "      error = 0.0\n",
        "      for k in range(self.num_outputs):\n",
        "          error = error + output_deltas[k]*self.output_weights[j][k]\n",
        "      hidden_deltas[j] = tang_Hiper(self.ah[j], diff=True) * error\n",
        "\n",
        "    # atualizando pesos do output\n",
        "    for j in range(self.num_hidden):\n",
        "      for k in range(self.num_outputs):\n",
        "        change = output_deltas[k]*self.ah[j]\n",
        "        self.output_weights[j][k] = self.output_weights[j][k] + N*change + M*self.co[j][k]\n",
        "        self.co[j][k] = change\n",
        "\n",
        "    # atualizando pesos do input\n",
        "    for i in range(self.num_inputs):\n",
        "      for j in range(self.num_hidden):\n",
        "        change = hidden_deltas[j]*self.ai[i]\n",
        "        self.hidden_weights[i][j] = self.hidden_weights[i][j] + N*change + M*self.ci[i][j]\n",
        "        self.ci[i][j] = change\n",
        "\n",
        "    # calculando erros\n",
        "    error = 0.0\n",
        "    for i in range(len(targets)):\n",
        "      error = error + 0.5*(targets[i]-self.ao[i])**2\n",
        "\n",
        "    return error\n",
        "\n",
        "\n",
        "  def test(self, patterns, arredondado=False):\n",
        "    if arredondado:\n",
        "      for p in patterns: print(p[0], '->', [int(abs(round(a,1))) for a in self.update(p[0])])\n",
        "    else:\n",
        "      for p in patterns: print(p[0], '->', self.update(p[0]))\n",
        "\n",
        "\n",
        "  def weights(self):\n",
        "    print(' Input weights:')\n",
        "    for i in range(self.num_inputs): print(self.hidden_weights[i])\n",
        "\n",
        "    print('\\n Output weights:')\n",
        "    for j in range(self.num_hidden): print(self.output_weights[j])\n",
        "\n",
        "# N: learning rate\n",
        "# M: momentum factor\n",
        "  def train(self, patterns, N=0.5, M=0.1):\n",
        "    cont = 0\n",
        "    while(True):\n",
        "      cont = cont+1\n",
        "      error = 0.0\n",
        "      for p in patterns:\n",
        "        inputs = p[0]\n",
        "        targets = p[1]\n",
        "        self.update(inputs)\n",
        "        error = error + self.backpropagation(targets, N, M)\n",
        "      if cont % 200 == 0:\n",
        "        print('error %-.5f' % error)\n",
        "      if error<0.001:\n",
        "        print(f'\\nÉpocas: {cont}\\n')\n",
        "        break"
      ],
      "metadata": {
        "id": "kZq-E46caJUh"
      },
      "execution_count": 159,
      "outputs": []
    },
    {
      "cell_type": "markdown",
      "source": [
        "## CILP Translation Algorithm"
      ],
      "metadata": {
        "id": "KeBEdO0bL-Fh"
      }
    },
    {
      "cell_type": "markdown",
      "source": [
        "### Funções principais"
      ],
      "metadata": {
        "id": "CVX_BFeQ14hi"
      }
    },
    {
      "cell_type": "code",
      "source": [
        "# Função de ativação semilinear bipolar (β = 1)\n",
        "def h(x,b=1):\n",
        "  aux = math.exp(-b*x)\n",
        "  return ((2/(1 + aux)) - 1)\n",
        "\n",
        "# Ler programa de logica\n",
        "def lerP():\n",
        "  fim = \"n\"\n",
        "  P = []\n",
        "  while(fim == \"n\"):\n",
        "    cabeca = input(\"head: \")\n",
        "    corpo = input(\"body: \")\n",
        "    r = [cabeca, corpo.split(',')]\n",
        "    P.append(r)\n",
        "    # print(P)\n",
        "    fim = input(\"end? y/n : \")\n",
        "  return P\n",
        "\n",
        "# Devolver variavel negada, ou verificar se está com negação (-D)\n",
        "def neg(x, ver=False):\n",
        "  \n",
        "  if ver:\n",
        "    if x!='':\n",
        "      if x[0]==\"-\":\n",
        "        return True\n",
        "      else: return False\n",
        "    else: return False\n",
        "\n",
        "  else:\n",
        "    if x[0]==\"-\":\n",
        "      return x[1]\n",
        "    else:\n",
        "      return \"-\"+x\n",
        "\n",
        "# Positivar todos os elementos\n",
        "def negacoes(c):\n",
        "  n = c[1]\n",
        "  for i in range(len(n)):\n",
        "    if neg(n[i], True):\n",
        "      n[i]=neg(n[i])\n",
        "  return n\n",
        "\n",
        "# Lista de literais de todo programa de lógica\n",
        "def literais(P):\n",
        "  all = []\n",
        "  for r in P:\n",
        "    for s in r:\n",
        "      for t in s:\n",
        "        if (t not in all) and (t != '') and (neg(t) not in all):\n",
        "          if neg(t,True):\n",
        "            all.append(neg(t))\n",
        "          else:\n",
        "            all.append(t)\n",
        "  return all\n",
        "\n",
        "# Lista de literais negativos e positivos do programa de lógica\n",
        "def neg_pos(P):\n",
        "  Neg = []\n",
        "  Pos = []\n",
        "  for k in P:\n",
        "    print(k)\n",
        "    # for q in k:\n",
        "    n=0\n",
        "    p=0\n",
        "    # a = P1[0][1]\n",
        "    for r in k[1]:\n",
        "      # print(r)\n",
        "      if neg(r,True):\n",
        "        print(\"neg: \"+r)\n",
        "        n+=1\n",
        "      else:\n",
        "        if r!='':\n",
        "          print(\"pos:  \"+r)\n",
        "          p+=1\n",
        "\n",
        "    Neg.append(n)\n",
        "    Pos.append(p)\n",
        "    print()\n",
        "  return Neg,Pos\n",
        "\n",
        "# q: número de clauses do programa de lógica\n",
        "# v: número de literais do programa de lógica\n",
        "# K: vetor com o número de literias no corpo de cada clause\n",
        "def q_v_k(P):\n",
        "  q = len(P)\n",
        "  v = len(literais(P))\n",
        "  K = []\n",
        "  k = 0\n",
        "  for r in P:\n",
        "    # print(r[1], len(r[1]))\n",
        "    if r[1]!=['']:\n",
        "      K.append(len(r[1]))\n",
        "    else:\n",
        "      K.append(0)\n",
        "\n",
        "  return q,v,K\n",
        "\n",
        "# u: ocorrencia de cada head nas clauses\n",
        "def u_heads(P):\n",
        "  heads = [a[0] for a in P]\n",
        "  return [heads.count(a) for a in heads]\n",
        "\n",
        "# Máximo entre k e u\n",
        "def Maxr(k,u):\n",
        "  if k>u: return k\n",
        "  else: return u\n",
        "\n",
        "# Máximo entre o vetor k e vetor u\n",
        "def Maxp(k,u):\n",
        "  max = 0\n",
        "  for i in k:\n",
        "    for j in u:\n",
        "      if Maxr(i,j)>max:\n",
        "        max = Maxr(i,j)\n",
        "  return max\n",
        "\n",
        "# Cálculo do 0<Amin<1, a partir dos vetores k e u\n",
        "def Amin(k,u):\n",
        "  return ((Maxp(k,u)-1) / (Maxp(k,u)+1))\n",
        "\n",
        "# Cálculo do peso W\n",
        "def W_pesos(k,u,b, amin):\n",
        "  return (2/b)*(math.log(1+amin)-math.log(1-amin))/(Maxp(k,u)*(amin-1) + amin+1)\n",
        "\n",
        "# Definir a lista de limiar da camada escondida, a partir do Amin e do vetor K\n",
        "def threshold_hidden(amin, K, W):\n",
        "  return [(1+amin)*(k-1)*W/2 for k in K]\n",
        "\n",
        "# Definir a lista de limiar da camada de saida, a partir do Amin e do vetor u\n",
        "def threshold_output(amin, U, W):\n",
        "  return [(1+amin)*(1-u)*W/2 for u in U]\n",
        "\n",
        "# Verifica vazio\n",
        "def empty(x):\n",
        "  if x=='':\n",
        "    return 0\n",
        "  else: return 1\n",
        "\n",
        "# Matriz de pesos para a rede neural\n",
        "def pesos_clauses(P, w, amin):\n",
        "  pesos = []\n",
        "  for r in P:\n",
        "    l = literais(P)\n",
        "    l.append('Bias')\n",
        "    dicio = dict.fromkeys(l, 0)\n",
        "    try:\n",
        "        while True:\n",
        "            r[1].remove('')\n",
        "    except ValueError:\n",
        "        pass\n",
        "    \n",
        "    values = [-1 if neg(a, True) else empty(a) for a in r[1]]\n",
        "    keys = negacoes(r)\n",
        "    # print(keys, values)\n",
        "    for i in range(len(keys)):\n",
        "      dicio[keys[i]] = values[i]\n",
        "    pesos.append(list(dicio.values()))\n",
        "    # print(list(dicio.values()))\n",
        "  \n",
        "  # Multiplicando a matriz pelo peso\n",
        "  for i in range(len(pesos)):\n",
        "    for a in range(len(pesos[i])):\n",
        "      # print(a)\n",
        "      pesos[i][a]=pesos[i][a]*w\n",
        "\n",
        "  # Deixando no shape correto para a rede neural\n",
        "  pesos = np.transpose(pesos)\n",
        "  # print(pesos)\n",
        "  q, v, K = q_v_k(P)\n",
        "\n",
        "  # Adicionando o limiar para camada escondida na ultima linha de pesos\n",
        "  pesos[-1] = threshold_hidden(amin, K, w)\n",
        "  \n",
        "  return pesos"
      ],
      "metadata": {
        "id": "raMW4QQ6q14k"
      },
      "execution_count": 160,
      "outputs": []
    },
    {
      "cell_type": "markdown",
      "source": [
        "## Treino e testes"
      ],
      "metadata": {
        "id": "TX9UdU4Z1Wtv"
      }
    },
    {
      "cell_type": "code",
      "source": [
        "# Aqui voce pode ler seu programa em lógica proposicional\n",
        "# P = lerP()\n",
        "\n",
        "# Para ser mais rápido, apenas foi nomeado P no bloco de código abaixo"
      ],
      "metadata": {
        "id": "V3scm-FeaqEQ"
      },
      "execution_count": 165,
      "outputs": []
    },
    {
      "cell_type": "markdown",
      "source": [
        "#### Pesos aleatórios"
      ],
      "metadata": {
        "id": "CTjutbY7YYy0"
      }
    },
    {
      "cell_type": "code",
      "source": [
        "# Base para treino\n",
        "input_output = [\n",
        "                [[0,0,0,0,0,0], [0,1,1,0,0,0]],\n",
        "                [[0,1,1,0,0,0], [0,1,0,0,0,0]],\n",
        "                [[0,1,0,0,0,0], [1,1,0,0,0,0]],\n",
        "                [[1,1,0,0,0,0], [1,1,0,0,0,0]]\n",
        "                ]\n",
        "\n",
        "# Programa P\n",
        "P = [['A', ['B', '-C','-D']], ['A', ['E', 'F']], ['B', ['']], ['C', ['-B']]]\n",
        "\n",
        "# Variáveis necessárias\n",
        "q, v, K = q_v_k(P)\n",
        "U = u_heads(P)\n",
        "amin = (1 - Amin(K,U))/2 + Amin(K,U)\n",
        "w = W_pesos(K, U, 1, amin)\n",
        "\n",
        "# Pesos Aleatórios\n",
        "pesos_rand = pesos_random(v,q)\n",
        "\n",
        "# Estrutura da rede\n",
        "  # v entradas\n",
        "  # q camadas invisíveis\n",
        "  # v saídas \n",
        "n = NeuralNetwork(v, q, v, pesos_rand)\n",
        "\n",
        "# Treino\n",
        "n.train(input_output)\n",
        "\n",
        "# Teste\n",
        "n.test(input_output, arredondado=True)"
      ],
      "metadata": {
        "colab": {
          "base_uri": "https://localhost:8080/"
        },
        "id": "XtTrf83Yg99Y",
        "outputId": "3d8885a7-5960-4dc2-9002-c7c7ca0e2434"
      },
      "execution_count": 162,
      "outputs": [
        {
          "output_type": "stream",
          "name": "stdout",
          "text": [
            "error 0.04814\n",
            "error 0.04701\n",
            "error 0.04026\n",
            "error 0.02485\n",
            "error 0.01572\n",
            "error 0.00788\n",
            "error 0.01459\n",
            "error 0.00854\n",
            "error 0.00885\n",
            "error 0.00412\n",
            "error 0.00439\n",
            "error 0.00414\n",
            "error 0.00441\n",
            "error 0.00381\n",
            "error 0.00290\n",
            "error 0.00236\n",
            "error 0.00242\n",
            "error 0.00268\n",
            "error 0.00272\n",
            "error 0.00256\n",
            "error 0.00240\n",
            "error 0.00229\n",
            "error 0.00211\n",
            "error 0.00165\n",
            "error 0.00127\n",
            "\n",
            "Épocas: 5050\n",
            "\n",
            "[0, 0, 0, 0, 0, 0] -> [0, 1, 1, 0, 0, 0]\n",
            "[0, 1, 1, 0, 0, 0] -> [0, 1, 0, 0, 0, 0]\n",
            "[0, 1, 0, 0, 0, 0] -> [1, 1, 0, 0, 0, 0]\n",
            "[1, 1, 0, 0, 0, 0] -> [1, 1, 0, 0, 0, 0]\n"
          ]
        }
      ]
    },
    {
      "cell_type": "markdown",
      "source": [
        "#### Pesos Gerados com CILP"
      ],
      "metadata": {
        "id": "rcbu4z8MYdAY"
      }
    },
    {
      "cell_type": "code",
      "source": [
        "# Base para treino\n",
        "input_output = [\n",
        "                [[0,0,0,0,0,0], [0,1,1,0,0,0]],\n",
        "                [[0,1,1,0,0,0], [0,1,0,0,0,0]],\n",
        "                [[0,1,0,0,0,0], [1,1,0,0,0,0]],\n",
        "                [[1,1,0,0,0,0], [1,1,0,0,0,0]]\n",
        "                ]\n",
        "\n",
        "# Programa P\n",
        "P = [['A', ['B', '-C','-D']], ['A', ['E', 'F']], ['B', ['']], ['C', ['-B']]]\n",
        "\n",
        "# Variáveis necessárias\n",
        "q, v, K = q_v_k(P)\n",
        "U = u_heads(P)\n",
        "amin = (1 - Amin(K,U))/2 + Amin(K,U)\n",
        "w = W_pesos(K, U, 1, amin)\n",
        "\n",
        "# Pesos gerados\n",
        "pesos = pesos_clauses(P,w,amin)\n",
        "\n",
        "# Estrutura da rede\n",
        "  # v entradas\n",
        "  # q camadas invisíveis\n",
        "  # v saídas \n",
        "n = NeuralNetwork(v, q, v, pesos_rand)\n",
        "\n",
        "#Treino\n",
        "n.train(input_output)\n",
        "\n",
        "#Teste\n",
        "n.test(input_output, arredondado=True)"
      ],
      "metadata": {
        "id": "ZKWZCqnmfr_1",
        "colab": {
          "base_uri": "https://localhost:8080/"
        },
        "outputId": "aa5957d8-aa25-423b-e63a-4d2952e7f0e6"
      },
      "execution_count": 163,
      "outputs": [
        {
          "output_type": "stream",
          "name": "stdout",
          "text": [
            "error 0.01704\n",
            "error 0.01143\n",
            "error 0.00653\n",
            "error 0.00427\n",
            "error 0.00312\n",
            "error 0.00244\n",
            "error 0.00200\n",
            "\n",
            "Épocas: 1583\n",
            "\n",
            "[0, 0, 0, 0, 0, 0] -> [0, 1, 1, 0, 0, 0]\n",
            "[0, 1, 1, 0, 0, 0] -> [0, 1, 0, 0, 0, 0]\n",
            "[0, 1, 0, 0, 0, 0] -> [1, 1, 0, 0, 0, 0]\n",
            "[1, 1, 0, 0, 0, 0] -> [1, 1, 0, 0, 0, 0]\n"
          ]
        }
      ]
    },
    {
      "cell_type": "markdown",
      "source": [
        "### Previsão"
      ],
      "metadata": {
        "id": "4hacTPM0i5wQ"
      }
    },
    {
      "cell_type": "code",
      "source": [
        "prev = [0,1,1,0,0,0]\n",
        "prev2 = n.update(prev)\n",
        "prev3 = n.update(prev2)\n",
        "prev4 = n.update(prev3)\n",
        "print(prev4)"
      ],
      "metadata": {
        "id": "Xf_7oso2gI9m",
        "colab": {
          "base_uri": "https://localhost:8080/"
        },
        "outputId": "837cdeac-a18f-4720-8acc-92369b5675e5"
      },
      "execution_count": 164,
      "outputs": [
        {
          "output_type": "stream",
          "name": "stdout",
          "text": [
            "[0.9967012091164039, 0.9963760787990548, -0.011486416636065772, -1.1356909259362625e-36, -1.1554265548860563e-37, -1.684502083891932e-37]\n"
          ]
        }
      ]
    }
  ]
}